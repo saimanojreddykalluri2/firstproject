{
  "nbformat": 4,
  "nbformat_minor": 0,
  "metadata": {
    "colab": {
      "name": " Week_Two_Assignment",
      "provenance": []
    },
    "kernelspec": {
      "name": "python3",
      "display_name": "Python 3"
    },
    "language_info": {
      "name": "python"
    }
  },
  "cells": [
    {
      "cell_type": "markdown",
      "source": [
        "Get th dataset from\n",
        "https://www.kaggle.com/datasets/sootersaalu/amazon-top-50-bestselling-books-2009-2019"
      ],
      "metadata": {
        "id": "FnNje2toXe39"
      }
    },
    {
      "cell_type": "code",
      "execution_count": 2,
      "metadata": {
        "id": "iEOqXOT8W75k"
      },
      "outputs": [],
      "source": [
        "import numpy as np\n",
        "import pandas as pd\n",
        "import matplotlib.pyplot as plt"
      ]
    },
    {
      "cell_type": "markdown",
      "source": [
        "### Convert file into pandas dataframe"
      ],
      "metadata": {
        "id": "BYlpVNMmjABK"
      }
    },
    {
      "cell_type": "code",
      "source": [
        "data = pd.read_csv('bestsellers with categories.csv')\n",
        "\n",
        "data.head()"
      ],
      "metadata": {
        "id": "z2KFeOdeX-Qa",
        "outputId": "9ce9b205-74be-41ef-f7f9-7ce70494d1e0",
        "colab": {
          "base_uri": "https://localhost:8080/",
          "height": 206
        }
      },
      "execution_count": 5,
      "outputs": [
        {
          "output_type": "execute_result",
          "data": {
            "text/plain": [
              "                                                Name  \\\n",
              "0                      10-Day Green Smoothie Cleanse   \n",
              "1                                  11/22/63: A Novel   \n",
              "2            12 Rules for Life: An Antidote to Chaos   \n",
              "3                             1984 (Signet Classics)   \n",
              "4  5,000 Awesome Facts (About Everything!) (Natio...   \n",
              "\n",
              "                     Author  User Rating  Reviews  Price  Year        Genre  \n",
              "0                  JJ Smith          4.7    17350      8  2016  Non Fiction  \n",
              "1              Stephen King          4.6     2052     22  2011      Fiction  \n",
              "2        Jordan B. Peterson          4.7    18979     15  2018  Non Fiction  \n",
              "3             George Orwell          4.7    21424      6  2017      Fiction  \n",
              "4  National Geographic Kids          4.8     7665     12  2019  Non Fiction  "
            ],
            "text/html": [
              "\n",
              "  <div id=\"df-d8e351ea-c6aa-4712-8b12-959d44509b82\">\n",
              "    <div class=\"colab-df-container\">\n",
              "      <div>\n",
              "<style scoped>\n",
              "    .dataframe tbody tr th:only-of-type {\n",
              "        vertical-align: middle;\n",
              "    }\n",
              "\n",
              "    .dataframe tbody tr th {\n",
              "        vertical-align: top;\n",
              "    }\n",
              "\n",
              "    .dataframe thead th {\n",
              "        text-align: right;\n",
              "    }\n",
              "</style>\n",
              "<table border=\"1\" class=\"dataframe\">\n",
              "  <thead>\n",
              "    <tr style=\"text-align: right;\">\n",
              "      <th></th>\n",
              "      <th>Name</th>\n",
              "      <th>Author</th>\n",
              "      <th>User Rating</th>\n",
              "      <th>Reviews</th>\n",
              "      <th>Price</th>\n",
              "      <th>Year</th>\n",
              "      <th>Genre</th>\n",
              "    </tr>\n",
              "  </thead>\n",
              "  <tbody>\n",
              "    <tr>\n",
              "      <th>0</th>\n",
              "      <td>10-Day Green Smoothie Cleanse</td>\n",
              "      <td>JJ Smith</td>\n",
              "      <td>4.7</td>\n",
              "      <td>17350</td>\n",
              "      <td>8</td>\n",
              "      <td>2016</td>\n",
              "      <td>Non Fiction</td>\n",
              "    </tr>\n",
              "    <tr>\n",
              "      <th>1</th>\n",
              "      <td>11/22/63: A Novel</td>\n",
              "      <td>Stephen King</td>\n",
              "      <td>4.6</td>\n",
              "      <td>2052</td>\n",
              "      <td>22</td>\n",
              "      <td>2011</td>\n",
              "      <td>Fiction</td>\n",
              "    </tr>\n",
              "    <tr>\n",
              "      <th>2</th>\n",
              "      <td>12 Rules for Life: An Antidote to Chaos</td>\n",
              "      <td>Jordan B. Peterson</td>\n",
              "      <td>4.7</td>\n",
              "      <td>18979</td>\n",
              "      <td>15</td>\n",
              "      <td>2018</td>\n",
              "      <td>Non Fiction</td>\n",
              "    </tr>\n",
              "    <tr>\n",
              "      <th>3</th>\n",
              "      <td>1984 (Signet Classics)</td>\n",
              "      <td>George Orwell</td>\n",
              "      <td>4.7</td>\n",
              "      <td>21424</td>\n",
              "      <td>6</td>\n",
              "      <td>2017</td>\n",
              "      <td>Fiction</td>\n",
              "    </tr>\n",
              "    <tr>\n",
              "      <th>4</th>\n",
              "      <td>5,000 Awesome Facts (About Everything!) (Natio...</td>\n",
              "      <td>National Geographic Kids</td>\n",
              "      <td>4.8</td>\n",
              "      <td>7665</td>\n",
              "      <td>12</td>\n",
              "      <td>2019</td>\n",
              "      <td>Non Fiction</td>\n",
              "    </tr>\n",
              "  </tbody>\n",
              "</table>\n",
              "</div>\n",
              "      <button class=\"colab-df-convert\" onclick=\"convertToInteractive('df-d8e351ea-c6aa-4712-8b12-959d44509b82')\"\n",
              "              title=\"Convert this dataframe to an interactive table.\"\n",
              "              style=\"display:none;\">\n",
              "        \n",
              "  <svg xmlns=\"http://www.w3.org/2000/svg\" height=\"24px\"viewBox=\"0 0 24 24\"\n",
              "       width=\"24px\">\n",
              "    <path d=\"M0 0h24v24H0V0z\" fill=\"none\"/>\n",
              "    <path d=\"M18.56 5.44l.94 2.06.94-2.06 2.06-.94-2.06-.94-.94-2.06-.94 2.06-2.06.94zm-11 1L8.5 8.5l.94-2.06 2.06-.94-2.06-.94L8.5 2.5l-.94 2.06-2.06.94zm10 10l.94 2.06.94-2.06 2.06-.94-2.06-.94-.94-2.06-.94 2.06-2.06.94z\"/><path d=\"M17.41 7.96l-1.37-1.37c-.4-.4-.92-.59-1.43-.59-.52 0-1.04.2-1.43.59L10.3 9.45l-7.72 7.72c-.78.78-.78 2.05 0 2.83L4 21.41c.39.39.9.59 1.41.59.51 0 1.02-.2 1.41-.59l7.78-7.78 2.81-2.81c.8-.78.8-2.07 0-2.86zM5.41 20L4 18.59l7.72-7.72 1.47 1.35L5.41 20z\"/>\n",
              "  </svg>\n",
              "      </button>\n",
              "      \n",
              "  <style>\n",
              "    .colab-df-container {\n",
              "      display:flex;\n",
              "      flex-wrap:wrap;\n",
              "      gap: 12px;\n",
              "    }\n",
              "\n",
              "    .colab-df-convert {\n",
              "      background-color: #E8F0FE;\n",
              "      border: none;\n",
              "      border-radius: 50%;\n",
              "      cursor: pointer;\n",
              "      display: none;\n",
              "      fill: #1967D2;\n",
              "      height: 32px;\n",
              "      padding: 0 0 0 0;\n",
              "      width: 32px;\n",
              "    }\n",
              "\n",
              "    .colab-df-convert:hover {\n",
              "      background-color: #E2EBFA;\n",
              "      box-shadow: 0px 1px 2px rgba(60, 64, 67, 0.3), 0px 1px 3px 1px rgba(60, 64, 67, 0.15);\n",
              "      fill: #174EA6;\n",
              "    }\n",
              "\n",
              "    [theme=dark] .colab-df-convert {\n",
              "      background-color: #3B4455;\n",
              "      fill: #D2E3FC;\n",
              "    }\n",
              "\n",
              "    [theme=dark] .colab-df-convert:hover {\n",
              "      background-color: #434B5C;\n",
              "      box-shadow: 0px 1px 3px 1px rgba(0, 0, 0, 0.15);\n",
              "      filter: drop-shadow(0px 1px 2px rgba(0, 0, 0, 0.3));\n",
              "      fill: #FFFFFF;\n",
              "    }\n",
              "  </style>\n",
              "\n",
              "      <script>\n",
              "        const buttonEl =\n",
              "          document.querySelector('#df-d8e351ea-c6aa-4712-8b12-959d44509b82 button.colab-df-convert');\n",
              "        buttonEl.style.display =\n",
              "          google.colab.kernel.accessAllowed ? 'block' : 'none';\n",
              "\n",
              "        async function convertToInteractive(key) {\n",
              "          const element = document.querySelector('#df-d8e351ea-c6aa-4712-8b12-959d44509b82');\n",
              "          const dataTable =\n",
              "            await google.colab.kernel.invokeFunction('convertToInteractive',\n",
              "                                                     [key], {});\n",
              "          if (!dataTable) return;\n",
              "\n",
              "          const docLinkHtml = 'Like what you see? Visit the ' +\n",
              "            '<a target=\"_blank\" href=https://colab.research.google.com/notebooks/data_table.ipynb>data table notebook</a>'\n",
              "            + ' to learn more about interactive tables.';\n",
              "          element.innerHTML = '';\n",
              "          dataTable['output_type'] = 'display_data';\n",
              "          await google.colab.output.renderOutput(dataTable, element);\n",
              "          const docLink = document.createElement('div');\n",
              "          docLink.innerHTML = docLinkHtml;\n",
              "          element.appendChild(docLink);\n",
              "        }\n",
              "      </script>\n",
              "    </div>\n",
              "  </div>\n",
              "  "
            ]
          },
          "metadata": {},
          "execution_count": 5
        }
      ]
    },
    {
      "cell_type": "markdown",
      "source": [
        "### Print *first* 5 rows of dataframe"
      ],
      "metadata": {
        "id": "xa46khSFjGA_"
      }
    },
    {
      "cell_type": "code",
      "source": [
        "data.head(5)"
      ],
      "metadata": {
        "id": "dXtPp1yhbR1k",
        "outputId": "5a05be57-399c-4d37-a0c6-289016f80d77",
        "colab": {
          "base_uri": "https://localhost:8080/",
          "height": 206
        }
      },
      "execution_count": 6,
      "outputs": [
        {
          "output_type": "execute_result",
          "data": {
            "text/plain": [
              "                                                Name  \\\n",
              "0                      10-Day Green Smoothie Cleanse   \n",
              "1                                  11/22/63: A Novel   \n",
              "2            12 Rules for Life: An Antidote to Chaos   \n",
              "3                             1984 (Signet Classics)   \n",
              "4  5,000 Awesome Facts (About Everything!) (Natio...   \n",
              "\n",
              "                     Author  User Rating  Reviews  Price  Year        Genre  \n",
              "0                  JJ Smith          4.7    17350      8  2016  Non Fiction  \n",
              "1              Stephen King          4.6     2052     22  2011      Fiction  \n",
              "2        Jordan B. Peterson          4.7    18979     15  2018  Non Fiction  \n",
              "3             George Orwell          4.7    21424      6  2017      Fiction  \n",
              "4  National Geographic Kids          4.8     7665     12  2019  Non Fiction  "
            ],
            "text/html": [
              "\n",
              "  <div id=\"df-a0a62fe7-3284-417f-a858-7d57bea23d9a\">\n",
              "    <div class=\"colab-df-container\">\n",
              "      <div>\n",
              "<style scoped>\n",
              "    .dataframe tbody tr th:only-of-type {\n",
              "        vertical-align: middle;\n",
              "    }\n",
              "\n",
              "    .dataframe tbody tr th {\n",
              "        vertical-align: top;\n",
              "    }\n",
              "\n",
              "    .dataframe thead th {\n",
              "        text-align: right;\n",
              "    }\n",
              "</style>\n",
              "<table border=\"1\" class=\"dataframe\">\n",
              "  <thead>\n",
              "    <tr style=\"text-align: right;\">\n",
              "      <th></th>\n",
              "      <th>Name</th>\n",
              "      <th>Author</th>\n",
              "      <th>User Rating</th>\n",
              "      <th>Reviews</th>\n",
              "      <th>Price</th>\n",
              "      <th>Year</th>\n",
              "      <th>Genre</th>\n",
              "    </tr>\n",
              "  </thead>\n",
              "  <tbody>\n",
              "    <tr>\n",
              "      <th>0</th>\n",
              "      <td>10-Day Green Smoothie Cleanse</td>\n",
              "      <td>JJ Smith</td>\n",
              "      <td>4.7</td>\n",
              "      <td>17350</td>\n",
              "      <td>8</td>\n",
              "      <td>2016</td>\n",
              "      <td>Non Fiction</td>\n",
              "    </tr>\n",
              "    <tr>\n",
              "      <th>1</th>\n",
              "      <td>11/22/63: A Novel</td>\n",
              "      <td>Stephen King</td>\n",
              "      <td>4.6</td>\n",
              "      <td>2052</td>\n",
              "      <td>22</td>\n",
              "      <td>2011</td>\n",
              "      <td>Fiction</td>\n",
              "    </tr>\n",
              "    <tr>\n",
              "      <th>2</th>\n",
              "      <td>12 Rules for Life: An Antidote to Chaos</td>\n",
              "      <td>Jordan B. Peterson</td>\n",
              "      <td>4.7</td>\n",
              "      <td>18979</td>\n",
              "      <td>15</td>\n",
              "      <td>2018</td>\n",
              "      <td>Non Fiction</td>\n",
              "    </tr>\n",
              "    <tr>\n",
              "      <th>3</th>\n",
              "      <td>1984 (Signet Classics)</td>\n",
              "      <td>George Orwell</td>\n",
              "      <td>4.7</td>\n",
              "      <td>21424</td>\n",
              "      <td>6</td>\n",
              "      <td>2017</td>\n",
              "      <td>Fiction</td>\n",
              "    </tr>\n",
              "    <tr>\n",
              "      <th>4</th>\n",
              "      <td>5,000 Awesome Facts (About Everything!) (Natio...</td>\n",
              "      <td>National Geographic Kids</td>\n",
              "      <td>4.8</td>\n",
              "      <td>7665</td>\n",
              "      <td>12</td>\n",
              "      <td>2019</td>\n",
              "      <td>Non Fiction</td>\n",
              "    </tr>\n",
              "  </tbody>\n",
              "</table>\n",
              "</div>\n",
              "      <button class=\"colab-df-convert\" onclick=\"convertToInteractive('df-a0a62fe7-3284-417f-a858-7d57bea23d9a')\"\n",
              "              title=\"Convert this dataframe to an interactive table.\"\n",
              "              style=\"display:none;\">\n",
              "        \n",
              "  <svg xmlns=\"http://www.w3.org/2000/svg\" height=\"24px\"viewBox=\"0 0 24 24\"\n",
              "       width=\"24px\">\n",
              "    <path d=\"M0 0h24v24H0V0z\" fill=\"none\"/>\n",
              "    <path d=\"M18.56 5.44l.94 2.06.94-2.06 2.06-.94-2.06-.94-.94-2.06-.94 2.06-2.06.94zm-11 1L8.5 8.5l.94-2.06 2.06-.94-2.06-.94L8.5 2.5l-.94 2.06-2.06.94zm10 10l.94 2.06.94-2.06 2.06-.94-2.06-.94-.94-2.06-.94 2.06-2.06.94z\"/><path d=\"M17.41 7.96l-1.37-1.37c-.4-.4-.92-.59-1.43-.59-.52 0-1.04.2-1.43.59L10.3 9.45l-7.72 7.72c-.78.78-.78 2.05 0 2.83L4 21.41c.39.39.9.59 1.41.59.51 0 1.02-.2 1.41-.59l7.78-7.78 2.81-2.81c.8-.78.8-2.07 0-2.86zM5.41 20L4 18.59l7.72-7.72 1.47 1.35L5.41 20z\"/>\n",
              "  </svg>\n",
              "      </button>\n",
              "      \n",
              "  <style>\n",
              "    .colab-df-container {\n",
              "      display:flex;\n",
              "      flex-wrap:wrap;\n",
              "      gap: 12px;\n",
              "    }\n",
              "\n",
              "    .colab-df-convert {\n",
              "      background-color: #E8F0FE;\n",
              "      border: none;\n",
              "      border-radius: 50%;\n",
              "      cursor: pointer;\n",
              "      display: none;\n",
              "      fill: #1967D2;\n",
              "      height: 32px;\n",
              "      padding: 0 0 0 0;\n",
              "      width: 32px;\n",
              "    }\n",
              "\n",
              "    .colab-df-convert:hover {\n",
              "      background-color: #E2EBFA;\n",
              "      box-shadow: 0px 1px 2px rgba(60, 64, 67, 0.3), 0px 1px 3px 1px rgba(60, 64, 67, 0.15);\n",
              "      fill: #174EA6;\n",
              "    }\n",
              "\n",
              "    [theme=dark] .colab-df-convert {\n",
              "      background-color: #3B4455;\n",
              "      fill: #D2E3FC;\n",
              "    }\n",
              "\n",
              "    [theme=dark] .colab-df-convert:hover {\n",
              "      background-color: #434B5C;\n",
              "      box-shadow: 0px 1px 3px 1px rgba(0, 0, 0, 0.15);\n",
              "      filter: drop-shadow(0px 1px 2px rgba(0, 0, 0, 0.3));\n",
              "      fill: #FFFFFF;\n",
              "    }\n",
              "  </style>\n",
              "\n",
              "      <script>\n",
              "        const buttonEl =\n",
              "          document.querySelector('#df-a0a62fe7-3284-417f-a858-7d57bea23d9a button.colab-df-convert');\n",
              "        buttonEl.style.display =\n",
              "          google.colab.kernel.accessAllowed ? 'block' : 'none';\n",
              "\n",
              "        async function convertToInteractive(key) {\n",
              "          const element = document.querySelector('#df-a0a62fe7-3284-417f-a858-7d57bea23d9a');\n",
              "          const dataTable =\n",
              "            await google.colab.kernel.invokeFunction('convertToInteractive',\n",
              "                                                     [key], {});\n",
              "          if (!dataTable) return;\n",
              "\n",
              "          const docLinkHtml = 'Like what you see? Visit the ' +\n",
              "            '<a target=\"_blank\" href=https://colab.research.google.com/notebooks/data_table.ipynb>data table notebook</a>'\n",
              "            + ' to learn more about interactive tables.';\n",
              "          element.innerHTML = '';\n",
              "          dataTable['output_type'] = 'display_data';\n",
              "          await google.colab.output.renderOutput(dataTable, element);\n",
              "          const docLink = document.createElement('div');\n",
              "          docLink.innerHTML = docLinkHtml;\n",
              "          element.appendChild(docLink);\n",
              "        }\n",
              "      </script>\n",
              "    </div>\n",
              "  </div>\n",
              "  "
            ]
          },
          "metadata": {},
          "execution_count": 6
        }
      ]
    },
    {
      "cell_type": "markdown",
      "source": [
        " ### Print the number of rows.<br>Print the number of columns <br> Print the datatype of each variable."
      ],
      "metadata": {
        "id": "XW-n43O8j1IM"
      }
    },
    {
      "cell_type": "code",
      "source": [
        "\n",
        "\n",
        "count_row = data.shape[0]  # Gives number of rows\n",
        "count_col = data.shape[1]  # Gives number of columns\n",
        "\n",
        "print(count_row)\n",
        "print(count_col)\n",
        "\n",
        "print(data.dtypes)"
      ],
      "metadata": {
        "id": "EAZwuQlIi8P3",
        "outputId": "46018603-8350-4d43-ae83-0d7765a61888",
        "colab": {
          "base_uri": "https://localhost:8080/"
        }
      },
      "execution_count": 11,
      "outputs": [
        {
          "output_type": "stream",
          "name": "stdout",
          "text": [
            "550\n",
            "7\n",
            "Name            object\n",
            "Author          object\n",
            "User Rating    float64\n",
            "Reviews          int64\n",
            "Price            int64\n",
            "Year             int64\n",
            "Genre           object\n",
            "dtype: object\n"
          ]
        }
      ]
    },
    {
      "cell_type": "markdown",
      "source": [
        "### For each variable, print the number of unique values.<br>For each variable, display the number of missing entries."
      ],
      "metadata": {
        "id": "8el8X8XfkKCa"
      }
    },
    {
      "cell_type": "code",
      "source": [
        "print(data.nunique())\n",
        "\n",
        "print(data.isnull().sum())"
      ],
      "metadata": {
        "id": "EU6UJlwW-s2H",
        "outputId": "f51991d8-c572-4fbb-bbe9-5f6a29c113da",
        "colab": {
          "base_uri": "https://localhost:8080/"
        }
      },
      "execution_count": 10,
      "outputs": [
        {
          "output_type": "stream",
          "name": "stdout",
          "text": [
            "Name           351\n",
            "Author         248\n",
            "User Rating     14\n",
            "Reviews        346\n",
            "Price           40\n",
            "Year            11\n",
            "Genre            2\n",
            "dtype: int64\n",
            "Name           0\n",
            "Author         0\n",
            "User Rating    0\n",
            "Reviews        0\n",
            "Price          0\n",
            "Year           0\n",
            "Genre          0\n",
            "dtype: int64\n"
          ]
        }
      ]
    },
    {
      "cell_type": "markdown",
      "source": [
        "### Print statistical info of each numeric variable.(i.e. mean,meadian,..)"
      ],
      "metadata": {
        "id": "fVrHLAqk21Uf"
      }
    },
    {
      "cell_type": "code",
      "source": [
        "\n",
        "print(data['User Rating'].mean())\n",
        "print(data['User Rating'].median())\n",
        "\n",
        "print(data['Reviews'].mean())\n",
        "print(data['Reviews'].median())\n",
        "\n",
        "print(data['Price'].mean())\n",
        "print(data['Price'].median())\n",
        "\n",
        "print(data['Year'].mean())\n",
        "print(data['Year'].median())"
      ],
      "metadata": {
        "id": "lu0d8VOW-ufr",
        "outputId": "ab6ca31c-321c-4477-e598-9900f56f5ec5",
        "colab": {
          "base_uri": "https://localhost:8080/"
        }
      },
      "execution_count": 12,
      "outputs": [
        {
          "output_type": "stream",
          "name": "stdout",
          "text": [
            "4.618363636363641\n",
            "4.7\n",
            "11953.281818181818\n",
            "8580.0\n",
            "13.1\n",
            "11.0\n",
            "2014.0\n",
            "2014.0\n"
          ]
        }
      ]
    },
    {
      "cell_type": "markdown",
      "source": [
        "### Find 20%,40%,60%,80% of variables"
      ],
      "metadata": {
        "id": "acagyNwH7bRs"
      }
    },
    {
      "cell_type": "code",
      "source": [
        "# percentile list\n",
        "perc =[.20, .40, .60, .80]\n",
        "  \n",
        "# list of dtypes to include\n",
        "include =['float', 'int']\n",
        "  \n",
        "# calling describe method\n",
        "desc = data.describe(percentiles = perc, include = include)\n",
        "\n",
        "print(desc)"
      ],
      "metadata": {
        "id": "j_GgbSa4-xV2",
        "outputId": "170f4636-2b71-4d10-face-2c7888f856d1",
        "colab": {
          "base_uri": "https://localhost:8080/"
        }
      },
      "execution_count": 13,
      "outputs": [
        {
          "output_type": "stream",
          "name": "stdout",
          "text": [
            "       User Rating       Reviews       Price         Year\n",
            "count   550.000000    550.000000  550.000000   550.000000\n",
            "mean      4.618364  11953.281818   13.100000  2014.000000\n",
            "std       0.226980  11731.132017   10.842262     3.165156\n",
            "min       3.300000     37.000000    0.000000  2009.000000\n",
            "20%       4.500000   3477.000000    6.000000  2011.000000\n",
            "40%       4.600000   6364.600000    9.000000  2013.000000\n",
            "50%       4.700000   8580.000000   11.000000  2014.000000\n",
            "60%       4.700000  10082.400000   13.000000  2015.000000\n",
            "80%       4.800000  19637.400000   17.000000  2017.000000\n",
            "max       4.900000  87841.000000  105.000000  2019.000000\n"
          ]
        }
      ]
    },
    {
      "cell_type": "markdown",
      "source": [
        "### Print rows having 'To Kill a Mockingbird'"
      ],
      "metadata": {
        "id": "01kDNMsaHRVW"
      }
    },
    {
      "cell_type": "code",
      "source": [
        "data[(data == 'To Kill a Mockingbird').any(axis=1)]"
      ],
      "metadata": {
        "id": "OggzU_H9-za2",
        "outputId": "60dc84d7-8cf4-4b3b-c219-84d5db80eb87",
        "colab": {
          "base_uri": "https://localhost:8080/",
          "height": 206
        }
      },
      "execution_count": 14,
      "outputs": [
        {
          "output_type": "execute_result",
          "data": {
            "text/plain": [
              "                      Name      Author  User Rating  Reviews  Price  Year  \\\n",
              "505  To Kill a Mockingbird  Harper Lee          4.8    26234      0  2013   \n",
              "506  To Kill a Mockingbird  Harper Lee          4.8    26234      0  2014   \n",
              "507  To Kill a Mockingbird  Harper Lee          4.8    26234      0  2015   \n",
              "508  To Kill a Mockingbird  Harper Lee          4.8    26234      0  2016   \n",
              "509  To Kill a Mockingbird  Harper Lee          4.8    26234      7  2019   \n",
              "\n",
              "       Genre  \n",
              "505  Fiction  \n",
              "506  Fiction  \n",
              "507  Fiction  \n",
              "508  Fiction  \n",
              "509  Fiction  "
            ],
            "text/html": [
              "\n",
              "  <div id=\"df-9fc80fd2-0133-4455-a19f-c13f04325617\">\n",
              "    <div class=\"colab-df-container\">\n",
              "      <div>\n",
              "<style scoped>\n",
              "    .dataframe tbody tr th:only-of-type {\n",
              "        vertical-align: middle;\n",
              "    }\n",
              "\n",
              "    .dataframe tbody tr th {\n",
              "        vertical-align: top;\n",
              "    }\n",
              "\n",
              "    .dataframe thead th {\n",
              "        text-align: right;\n",
              "    }\n",
              "</style>\n",
              "<table border=\"1\" class=\"dataframe\">\n",
              "  <thead>\n",
              "    <tr style=\"text-align: right;\">\n",
              "      <th></th>\n",
              "      <th>Name</th>\n",
              "      <th>Author</th>\n",
              "      <th>User Rating</th>\n",
              "      <th>Reviews</th>\n",
              "      <th>Price</th>\n",
              "      <th>Year</th>\n",
              "      <th>Genre</th>\n",
              "    </tr>\n",
              "  </thead>\n",
              "  <tbody>\n",
              "    <tr>\n",
              "      <th>505</th>\n",
              "      <td>To Kill a Mockingbird</td>\n",
              "      <td>Harper Lee</td>\n",
              "      <td>4.8</td>\n",
              "      <td>26234</td>\n",
              "      <td>0</td>\n",
              "      <td>2013</td>\n",
              "      <td>Fiction</td>\n",
              "    </tr>\n",
              "    <tr>\n",
              "      <th>506</th>\n",
              "      <td>To Kill a Mockingbird</td>\n",
              "      <td>Harper Lee</td>\n",
              "      <td>4.8</td>\n",
              "      <td>26234</td>\n",
              "      <td>0</td>\n",
              "      <td>2014</td>\n",
              "      <td>Fiction</td>\n",
              "    </tr>\n",
              "    <tr>\n",
              "      <th>507</th>\n",
              "      <td>To Kill a Mockingbird</td>\n",
              "      <td>Harper Lee</td>\n",
              "      <td>4.8</td>\n",
              "      <td>26234</td>\n",
              "      <td>0</td>\n",
              "      <td>2015</td>\n",
              "      <td>Fiction</td>\n",
              "    </tr>\n",
              "    <tr>\n",
              "      <th>508</th>\n",
              "      <td>To Kill a Mockingbird</td>\n",
              "      <td>Harper Lee</td>\n",
              "      <td>4.8</td>\n",
              "      <td>26234</td>\n",
              "      <td>0</td>\n",
              "      <td>2016</td>\n",
              "      <td>Fiction</td>\n",
              "    </tr>\n",
              "    <tr>\n",
              "      <th>509</th>\n",
              "      <td>To Kill a Mockingbird</td>\n",
              "      <td>Harper Lee</td>\n",
              "      <td>4.8</td>\n",
              "      <td>26234</td>\n",
              "      <td>7</td>\n",
              "      <td>2019</td>\n",
              "      <td>Fiction</td>\n",
              "    </tr>\n",
              "  </tbody>\n",
              "</table>\n",
              "</div>\n",
              "      <button class=\"colab-df-convert\" onclick=\"convertToInteractive('df-9fc80fd2-0133-4455-a19f-c13f04325617')\"\n",
              "              title=\"Convert this dataframe to an interactive table.\"\n",
              "              style=\"display:none;\">\n",
              "        \n",
              "  <svg xmlns=\"http://www.w3.org/2000/svg\" height=\"24px\"viewBox=\"0 0 24 24\"\n",
              "       width=\"24px\">\n",
              "    <path d=\"M0 0h24v24H0V0z\" fill=\"none\"/>\n",
              "    <path d=\"M18.56 5.44l.94 2.06.94-2.06 2.06-.94-2.06-.94-.94-2.06-.94 2.06-2.06.94zm-11 1L8.5 8.5l.94-2.06 2.06-.94-2.06-.94L8.5 2.5l-.94 2.06-2.06.94zm10 10l.94 2.06.94-2.06 2.06-.94-2.06-.94-.94-2.06-.94 2.06-2.06.94z\"/><path d=\"M17.41 7.96l-1.37-1.37c-.4-.4-.92-.59-1.43-.59-.52 0-1.04.2-1.43.59L10.3 9.45l-7.72 7.72c-.78.78-.78 2.05 0 2.83L4 21.41c.39.39.9.59 1.41.59.51 0 1.02-.2 1.41-.59l7.78-7.78 2.81-2.81c.8-.78.8-2.07 0-2.86zM5.41 20L4 18.59l7.72-7.72 1.47 1.35L5.41 20z\"/>\n",
              "  </svg>\n",
              "      </button>\n",
              "      \n",
              "  <style>\n",
              "    .colab-df-container {\n",
              "      display:flex;\n",
              "      flex-wrap:wrap;\n",
              "      gap: 12px;\n",
              "    }\n",
              "\n",
              "    .colab-df-convert {\n",
              "      background-color: #E8F0FE;\n",
              "      border: none;\n",
              "      border-radius: 50%;\n",
              "      cursor: pointer;\n",
              "      display: none;\n",
              "      fill: #1967D2;\n",
              "      height: 32px;\n",
              "      padding: 0 0 0 0;\n",
              "      width: 32px;\n",
              "    }\n",
              "\n",
              "    .colab-df-convert:hover {\n",
              "      background-color: #E2EBFA;\n",
              "      box-shadow: 0px 1px 2px rgba(60, 64, 67, 0.3), 0px 1px 3px 1px rgba(60, 64, 67, 0.15);\n",
              "      fill: #174EA6;\n",
              "    }\n",
              "\n",
              "    [theme=dark] .colab-df-convert {\n",
              "      background-color: #3B4455;\n",
              "      fill: #D2E3FC;\n",
              "    }\n",
              "\n",
              "    [theme=dark] .colab-df-convert:hover {\n",
              "      background-color: #434B5C;\n",
              "      box-shadow: 0px 1px 3px 1px rgba(0, 0, 0, 0.15);\n",
              "      filter: drop-shadow(0px 1px 2px rgba(0, 0, 0, 0.3));\n",
              "      fill: #FFFFFF;\n",
              "    }\n",
              "  </style>\n",
              "\n",
              "      <script>\n",
              "        const buttonEl =\n",
              "          document.querySelector('#df-9fc80fd2-0133-4455-a19f-c13f04325617 button.colab-df-convert');\n",
              "        buttonEl.style.display =\n",
              "          google.colab.kernel.accessAllowed ? 'block' : 'none';\n",
              "\n",
              "        async function convertToInteractive(key) {\n",
              "          const element = document.querySelector('#df-9fc80fd2-0133-4455-a19f-c13f04325617');\n",
              "          const dataTable =\n",
              "            await google.colab.kernel.invokeFunction('convertToInteractive',\n",
              "                                                     [key], {});\n",
              "          if (!dataTable) return;\n",
              "\n",
              "          const docLinkHtml = 'Like what you see? Visit the ' +\n",
              "            '<a target=\"_blank\" href=https://colab.research.google.com/notebooks/data_table.ipynb>data table notebook</a>'\n",
              "            + ' to learn more about interactive tables.';\n",
              "          element.innerHTML = '';\n",
              "          dataTable['output_type'] = 'display_data';\n",
              "          await google.colab.output.renderOutput(dataTable, element);\n",
              "          const docLink = document.createElement('div');\n",
              "          docLink.innerHTML = docLinkHtml;\n",
              "          element.appendChild(docLink);\n",
              "        }\n",
              "      </script>\n",
              "    </div>\n",
              "  </div>\n",
              "  "
            ]
          },
          "metadata": {},
          "execution_count": 14
        }
      ]
    },
    {
      "cell_type": "markdown",
      "source": [
        "### Remove Duplicates by name (Remove duplicates of the same name)"
      ],
      "metadata": {
        "id": "IA9k0tBnEC1I"
      }
    },
    {
      "cell_type": "code",
      "source": [
        "result_df = data.drop_duplicates(subset=['Name'], keep='first')\n",
        "print(result_df)"
      ],
      "metadata": {
        "id": "pMikskaO-1RI",
        "outputId": "0a16873e-b438-4b8f-d2e1-3de945555e75",
        "colab": {
          "base_uri": "https://localhost:8080/"
        }
      },
      "execution_count": 15,
      "outputs": [
        {
          "output_type": "stream",
          "name": "stdout",
          "text": [
            "                                                  Name  \\\n",
            "0                        10-Day Green Smoothie Cleanse   \n",
            "1                                    11/22/63: A Novel   \n",
            "2              12 Rules for Life: An Antidote to Chaos   \n",
            "3                               1984 (Signet Classics)   \n",
            "4    5,000 Awesome Facts (About Everything!) (Natio...   \n",
            "..                                                 ...   \n",
            "538  Winter of the World: Book Two of the Century T...   \n",
            "539  Women Food and God: An Unexpected Path to Almo...   \n",
            "540                                             Wonder   \n",
            "545       Wrecking Ball (Diary of a Wimpy Kid Book 14)   \n",
            "546  You Are a Badass: How to Stop Doubting Your Gr...   \n",
            "\n",
            "                       Author  User Rating  Reviews  Price  Year        Genre  \n",
            "0                    JJ Smith          4.7    17350      8  2016  Non Fiction  \n",
            "1                Stephen King          4.6     2052     22  2011      Fiction  \n",
            "2          Jordan B. Peterson          4.7    18979     15  2018  Non Fiction  \n",
            "3               George Orwell          4.7    21424      6  2017      Fiction  \n",
            "4    National Geographic Kids          4.8     7665     12  2019  Non Fiction  \n",
            "..                        ...          ...      ...    ...   ...          ...  \n",
            "538               Ken Follett          4.5    10760     15  2012      Fiction  \n",
            "539               Geneen Roth          4.2     1302     11  2010  Non Fiction  \n",
            "540             R. J. Palacio          4.8    21625      9  2013      Fiction  \n",
            "545               Jeff Kinney          4.9     9413      8  2019      Fiction  \n",
            "546               Jen Sincero          4.7    14331      8  2016  Non Fiction  \n",
            "\n",
            "[351 rows x 7 columns]\n"
          ]
        }
      ]
    },
    {
      "cell_type": "markdown",
      "source": [
        "### Print name of all columns"
      ],
      "metadata": {
        "id": "1j_Lner-3MtT"
      }
    },
    {
      "cell_type": "code",
      "source": [
        "for col_name in data.columns: \n",
        "    print(col_name)"
      ],
      "metadata": {
        "id": "gkLSK2DE-31v",
        "outputId": "af36b967-3459-47ec-c3aa-2dbb6d4f9160",
        "colab": {
          "base_uri": "https://localhost:8080/"
        }
      },
      "execution_count": 16,
      "outputs": [
        {
          "output_type": "stream",
          "name": "stdout",
          "text": [
            "Name\n",
            "Author\n",
            "User Rating\n",
            "Reviews\n",
            "Price\n",
            "Year\n",
            "Genre\n"
          ]
        }
      ]
    },
    {
      "cell_type": "markdown",
      "source": [
        "### Find info about movie 'Steve Jobs'(i.e.Print row of name 'Steve Jobs')"
      ],
      "metadata": {
        "id": "PlBp6hDwEjSv"
      }
    },
    {
      "cell_type": "code",
      "source": [
        "info = data[data.Name == 'Steve Jobs']\n",
        "\n",
        "print(info)"
      ],
      "metadata": {
        "id": "eyWjLx76_M2v",
        "outputId": "aa686ca6-0375-4a55-e0ed-7002da9937f3",
        "colab": {
          "base_uri": "https://localhost:8080/"
        }
      },
      "execution_count": 17,
      "outputs": [
        {
          "output_type": "stream",
          "name": "stdout",
          "text": [
            "           Name           Author  User Rating  Reviews  Price  Year  \\\n",
            "301  Steve Jobs  Walter Isaacson          4.6     7827     20  2011   \n",
            "302  Steve Jobs  Walter Isaacson          4.6     7827     20  2012   \n",
            "\n",
            "           Genre  \n",
            "301  Non Fiction  \n",
            "302  Non Fiction  \n"
          ]
        }
      ]
    },
    {
      "cell_type": "markdown",
      "source": [
        "### Plot Scatterplot of Price vs User Rating"
      ],
      "metadata": {
        "id": "OIz9rldRZOHw"
      }
    },
    {
      "cell_type": "code",
      "source": [
        "scatter_plot = data.plot.scatter(x='Price',y='User Rating',c='DarkBlue')"
      ],
      "metadata": {
        "id": "7DtgV1x0_NWE",
        "outputId": "b0a6f610-4f0c-4d7a-8a1a-41603e1a359b",
        "colab": {
          "base_uri": "https://localhost:8080/",
          "height": 279
        }
      },
      "execution_count": 22,
      "outputs": [
        {
          "output_type": "display_data",
          "data": {
            "text/plain": [
              "<Figure size 432x288 with 1 Axes>"
            ],
            "image/png": "[encoded data removed]"
          },
          "metadata": {
            "needs_background": "light"
          }
        }
      ]
    },
    {
      "cell_type": "markdown",
      "source": [
        "### For each variable, plot the frequency of each unique value (histogram)."
      ],
      "metadata": {
        "id": "ZuSZIn3MHtdi"
      }
    },
    {
      "cell_type": "code",
      "source": [
        "plt1 = data['Price'].hist(bins=25)"
      ],
      "metadata": {
        "id": "CjLsWhi-_N1-",
        "outputId": "f61b1f6c-e37e-426c-c33e-22f141d2dfc0",
        "colab": {
          "base_uri": "https://localhost:8080/",
          "height": 265
        }
      },
      "execution_count": 35,
      "outputs": [
        {
          "output_type": "display_data",
          "data": {
            "text/plain": [
              "<Figure size 432x288 with 1 Axes>"
            ],
            "image/png": "[encoded data removed]"
          },
          "metadata": {
            "needs_background": "light"
          }
        }
      ]
    },
    {
      "cell_type": "code",
      "source": [
        "plt2 = data['User Rating'].hist(bins=25)"
      ],
      "metadata": {
        "id": "rogAOGsuF9Pc",
        "outputId": "44f8791f-654a-4c55-fcc2-b170ba4ef4c5",
        "colab": {
          "base_uri": "https://localhost:8080/",
          "height": 265
        }
      },
      "execution_count": 36,
      "outputs": [
        {
          "output_type": "display_data",
          "data": {
            "text/plain": [
              "<Figure size 432x288 with 1 Axes>"
            ],
            "image/png": "[encoded data removed]"
          },
          "metadata": {
            "needs_background": "light"
          }
        }
      ]
    },
    {
      "cell_type": "code",
      "source": [
        "plt3 = data['Reviews'].hist(bins=25)"
      ],
      "metadata": {
        "id": "qXypLEVZF_i2",
        "outputId": "4eccbcbe-32b8-43af-b6f5-f8ac40d9f0ef",
        "colab": {
          "base_uri": "https://localhost:8080/",
          "height": 265
        }
      },
      "execution_count": 37,
      "outputs": [
        {
          "output_type": "display_data",
          "data": {
            "text/plain": [
              "<Figure size 432x288 with 1 Axes>"
            ],
            "image/png": "[encoded data removed]"
          },
          "metadata": {
            "needs_background": "light"
          }
        }
      ]
    },
    {
      "cell_type": "code",
      "source": [
        "plt4 = data['Year'].hist(bins=25)"
      ],
      "metadata": {
        "id": "QiIGs9PsGERX",
        "outputId": "460df849-93b9-4304-f07b-1063d54e43a6",
        "colab": {
          "base_uri": "https://localhost:8080/",
          "height": 265
        }
      },
      "execution_count": 38,
      "outputs": [
        {
          "output_type": "display_data",
          "data": {
            "text/plain": [
              "<Figure size 432x288 with 1 Axes>"
            ],
            "image/png": "[encoded data removed]"
          },
          "metadata": {
            "needs_background": "light"
          }
        }
      ]
    },
    {
      "cell_type": "markdown",
      "source": [
        "### Plot Box_Plot of each var"
      ],
      "metadata": {
        "id": "OPaYjixJXIuV"
      }
    },
    {
      "cell_type": "code",
      "source": [
        "\n",
        "df1=data.select_dtypes(exclude=['object'])\n",
        "for column in df1:\n",
        "    plt.figure()\n",
        "    data.boxplot([column])"
      ],
      "metadata": {
        "id": "Ix99PGo0X9x-",
        "outputId": "80290667-fdc2-4651-cd64-8808b7f5ffff",
        "colab": {
          "base_uri": "https://localhost:8080/",
          "height": 1000
        }
      },
      "execution_count": 26,
      "outputs": [
        {
          "output_type": "display_data",
          "data": {
            "text/plain": [
              "<Figure size 432x288 with 1 Axes>"
            ],
            "image/png": "[encoded data removed]"
          },
          "metadata": {
            "needs_background": "light"
          }
        },
        {
          "output_type": "display_data",
          "data": {
            "text/plain": [
              "<Figure size 432x288 with 1 Axes>"
            ],
            "image/png": "[encoded data removed]"
          },
          "metadata": {
            "needs_background": "light"
          }
        },
        {
          "output_type": "display_data",
          "data": {
            "text/plain": [
              "<Figure size 432x288 with 1 Axes>"
            ],
            "image/png": "[encoded data removed]"
          },
          "metadata": {
            "needs_background": "light"
          }
        },
        {
          "output_type": "display_data",
          "data": {
            "text/plain": [
              "<Figure size 432x288 with 1 Axes>"
            ],
            "image/png": "[encoded data removed]"
          },
          "metadata": {
            "needs_background": "light"
          }
        }
      ]
    }
  ]
}